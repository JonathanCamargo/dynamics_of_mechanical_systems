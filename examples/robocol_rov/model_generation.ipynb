{
 "cells": [
  {
   "cell_type": "markdown",
   "id": "46691e80-7c95-4f45-b2e7-ad92009956b7",
   "metadata": {},
   "source": []
  },
  {
   "cell_type": "code",
   "execution_count": 7,
   "id": "05654672",
   "metadata": {},
   "outputs": [],
   "source": [
    "import sys\n",
    "sys.path.append('../../src/')\n",
    "import sympy\n",
    "from sympy import symbols\n",
    "from sympy.physics.mechanics import dynamicsymbols,ReferenceFrame\n",
    "import numpy as np\n",
    "from dsm import getComponents\n",
    "from exporter import ExportFunPy\n",
    "\n",
    "t=symbols('t')\n",
    "#Parametros inerciales del modelo\n",
    "[m,Icm]=symbols('m,Icm')\n",
    "#Parametros geometricos del modelo\n",
    "[x1,y1,x2,y2,x3,y3,x4,y4,beta1,beta2,beta3,beta4]=symbols('x1,y1,x2,y2,x3,y3,x4,y4,beta1,beta2,beta3,beta4')\n",
    "#Parametros dinámicos del modelo\n",
    "[theta,x,y]=dynamicsymbols('theta,x,y')\n",
    "\n",
    "#Definir marcos de referencia de importancia\n",
    "N=ReferenceFrame('N')\n",
    "A=N.orientnew('A','Axis',(theta,N.z))\n",
    "B1=A.orientnew('B1','Axis',(beta1,N.z))\n",
    "B2=A.orientnew('B2','Axis',(-beta2,N.z))\n",
    "B3=A.orientnew('B3','Axis',(sympy.pi-beta3,N.z))\n",
    "B4=A.orientnew('B4','Axis',(sympy.pi+beta4,N.z))\n",
    "\n",
    "#Definir las posiciones en que se aplica cada fuerza\n",
    "# y la magnitud de cada fuerza en funcion de escalares u_i\n",
    "r1=x1*A.x+y1*A.y\n",
    "r2=x2*A.x+y2*A.y\n",
    "r3=x3*A.x+y3*A.y\n",
    "r4=x4*A.x+y4*A.y\n",
    "[u1,u2,u3,u4]=symbols('u1,u2,u3,u4')\n",
    "F1=-u1*B1.y\n",
    "F2=-u2*B2.y\n",
    "F3=u3*B3.y\n",
    "F4=u4*B4.y\n",
    "\n",
    "a_cm=x.diff(t,t)*N.x+y.diff(t,t)*N.y\n",
    "# Las ecuaciones son más sencillas si trabajamos la aceleración expresada en A\n",
    "# e.g. a_cm=x.diff(t,t)*A.x+y.diff(t,t)*A.y\n",
    "\n",
    "#Ecuaciones newton-euler\n",
    "eqForces=F1+F2+F3+F4-m*a_cm\n",
    "eqMoments=r1.cross(F1)+r2.cross(F2)+r3.cross(F3)+r4.cross(F4)-Icm*theta.diff(t,t)*N.z\n",
    "eqs=getComponents(eqForces,A)[0:2]+[getComponents(eqMoments,A)[2]]\n",
    "\n",
    "sln=sympy.solve(eqs,[x.diff(t,t),y.diff(t,t),theta.diff(t,t)],simplify=True)"
   ]
  },
  {
   "cell_type": "code",
   "execution_count": 8,
   "id": "6d9cb3ab",
   "metadata": {},
   "outputs": [
    {
     "data": {
      "text/latex": [
       "$\\displaystyle \\frac{- u_{1} x_{1} \\cos{\\left(\\beta_{1} \\right)} - u_{1} y_{1} \\sin{\\left(\\beta_{1} \\right)} - u_{2} x_{2} \\cos{\\left(\\beta_{2} \\right)} + u_{2} y_{2} \\sin{\\left(\\beta_{2} \\right)} - u_{3} x_{3} \\cos{\\left(\\beta_{3} \\right)} + u_{3} y_{3} \\sin{\\left(\\beta_{3} \\right)} - u_{4} x_{4} \\cos{\\left(\\beta_{4} \\right)} - u_{4} y_{4} \\sin{\\left(\\beta_{4} \\right)}}{Icm}$"
      ],
      "text/plain": [
       "(-u1*x1*cos(beta1) - u1*y1*sin(beta1) - u2*x2*cos(beta2) + u2*y2*sin(beta2) - u3*x3*cos(beta3) + u3*y3*sin(beta3) - u4*x4*cos(beta4) - u4*y4*sin(beta4))/Icm"
      ]
     },
     "execution_count": 8,
     "metadata": {},
     "output_type": "execute_result"
    }
   ],
   "source": [
    "sln[theta.diff(t,t)]"
   ]
  },
  {
   "cell_type": "code",
   "execution_count": 9,
   "id": "4f5410e0",
   "metadata": {},
   "outputs": [
    {
     "data": {
      "text/latex": [
       "$\\displaystyle - \\frac{u_{1} \\cos{\\left(\\beta_{1} + \\theta{\\left(t \\right)} \\right)} + u_{2} \\cos{\\left(\\beta_{2} - \\theta{\\left(t \\right)} \\right)} + u_{3} \\cos{\\left(\\beta_{3} - \\theta{\\left(t \\right)} \\right)} + u_{4} \\cos{\\left(\\beta_{4} + \\theta{\\left(t \\right)} \\right)}}{m}$"
      ],
      "text/plain": [
       "-(u1*cos(beta1 + theta(t)) + u2*cos(beta2 - theta(t)) + u3*cos(beta3 - theta(t)) + u4*cos(beta4 + theta(t)))/m"
      ]
     },
     "execution_count": 9,
     "metadata": {},
     "output_type": "execute_result"
    }
   ],
   "source": [
    "sln[y.diff(t,t)]"
   ]
  },
  {
   "cell_type": "code",
   "execution_count": 10,
   "id": "4ab3cb51",
   "metadata": {},
   "outputs": [
    {
     "data": {
      "text/latex": [
       "$\\displaystyle \\frac{u_{1} \\sin{\\left(\\beta_{1} + \\theta{\\left(t \\right)} \\right)} - u_{2} \\sin{\\left(\\beta_{2} - \\theta{\\left(t \\right)} \\right)} - u_{3} \\sin{\\left(\\beta_{3} - \\theta{\\left(t \\right)} \\right)} + u_{4} \\sin{\\left(\\beta_{4} + \\theta{\\left(t \\right)} \\right)}}{m}$"
      ],
      "text/plain": [
       "(u1*sin(beta1 + theta(t)) - u2*sin(beta2 - theta(t)) - u3*sin(beta3 - theta(t)) + u4*sin(beta4 + theta(t)))/m"
      ]
     },
     "execution_count": 10,
     "metadata": {},
     "output_type": "execute_result"
    }
   ],
   "source": [
    "sln[x.diff(t,t)]"
   ]
  },
  {
   "cell_type": "code",
   "execution_count": 11,
   "id": "d0ffe97b-215c-4073-8f9f-8ca3bcac54f1",
   "metadata": {},
   "outputs": [],
   "source": [
    "params={beta1:np.deg2rad(45),beta2:np.deg2rad(45),beta3:np.deg2rad(45),beta4:np.deg2rad(45),\n",
    "       x1:0.20,x2:-0.20,x3:0.20,x4:-0.20,y1:0.20,y2:0.20,y3:-0.20,y4:-0.20,\n",
    "       m:1,Icm:1*(0.2**2*2/12)}\n",
    "\n",
    "'''\n",
    "Parametros que nunca dejarían rotar el ROV\n",
    "params={beta1:np.deg2rad(-45),beta2:np.deg2rad(-45),beta3:np.deg2rad(-45),beta4:np.deg2rad(-45),\n",
    "       x1:0.20,x2:-0.20,x3:0.20,x4:-0.20,y1:0.20,y2:0.20,y3:-0.20,y4:-0.20,\n",
    "       m:1,Icm:1*(0.2**2*2/12)}\n",
    "'''\n",
    "\n",
    "thetaddot_sln=sln[theta.diff(t,t)].subs(params)\n",
    "xddot_sln=sln[x.diff(t,t)].subs(params).simplify()\n",
    "yddot_sln=sln[y.diff(t,t)].subs(params).simplify()"
   ]
  },
  {
   "cell_type": "code",
   "execution_count": 12,
   "id": "148a8beb-4c95-443f-8ae7-a0ec84e9c10c",
   "metadata": {},
   "outputs": [
    {
     "data": {
      "text/latex": [
       "$\\displaystyle - 42.4264068711929 u_{1} + 42.4264068711929 u_{2} - 42.4264068711929 u_{3} + 42.4264068711929 u_{4}$"
      ],
      "text/plain": [
       "-42.4264068711929*u1 + 42.4264068711929*u2 - 42.4264068711929*u3 + 42.4264068711929*u4"
      ]
     },
     "execution_count": 12,
     "metadata": {},
     "output_type": "execute_result"
    }
   ],
   "source": [
    "thetaddot_sln.simplify()"
   ]
  },
  {
   "cell_type": "code",
   "execution_count": 13,
   "id": "1059c269-5a21-452a-a022-e3714f94f7a5",
   "metadata": {},
   "outputs": [
    {
     "data": {
      "text/plain": [
       "-2.828427124746191"
      ]
     },
     "execution_count": 13,
     "metadata": {},
     "output_type": "execute_result"
    }
   ],
   "source": [
    "vars=[theta,x,y]\n",
    "varsdot=[var_i.diff(t) for var_i in vars]\n",
    "qvars=vars+varsdot\n",
    "uvars=[u1,u2,u3,u4]\n",
    "thetaddot_fun=sympy.lambdify(vars+varsdot+uvars,thetaddot_sln)\n",
    "xddot_fun=sympy.lambdify(vars+varsdot+uvars,xddot_sln)\n",
    "yddot_fun=sympy.lambdify(vars+varsdot+uvars,yddot_sln)\n",
    "\n",
    "def dq_dt(q,t=None,u=None):\n",
    "    if u==None:\n",
    "        u=np.zeros(4)\n",
    "    qdot=np.zeros(6)\n",
    "    qdot[0]=q[3]\n",
    "    qdot[1]=q[4]\n",
    "    qdot[2]=q[5]\n",
    "    qdot[3]=thetaddot_fun(*q,*u)\n",
    "    qdot[4]=xddot_fun(*q,*u)\n",
    "    qdot[5]=yddot_fun(*q,*u)\n",
    "    return qdot\n",
    "\n",
    "# Probar\n",
    "#uvalues=[1,1,1,1]\n",
    "#qvalues=[0,0,0,0,0,0]\n",
    "#yddot_fun(*(qvalues+uvalues))\n",
    "\n"
   ]
  },
  {
   "cell_type": "code",
   "execution_count": 16,
   "id": "5a451042-fe50-4d6a-aa86-e8a8a3381a68",
   "metadata": {},
   "outputs": [],
   "source": [
    "ExportFunPy(dq_dt)\n",
    "ExportFunPy(thetaddot_fun,rename='thetaddot_fun')\n",
    "ExportFunPy(xddot_fun,rename='xddot_fun')\n",
    "ExportFunPy(yddot_fun,rename='yddot_fun')\n"
   ]
  }
 ],
 "metadata": {
  "kernelspec": {
   "display_name": "Python 3 (ipykernel)",
   "language": "python",
   "name": "python3"
  },
  "language_info": {
   "codemirror_mode": {
    "name": "ipython",
    "version": 3
   },
   "file_extension": ".py",
   "mimetype": "text/x-python",
   "name": "python",
   "nbconvert_exporter": "python",
   "pygments_lexer": "ipython3",
   "version": "3.11.0"
  }
 },
 "nbformat": 4,
 "nbformat_minor": 5
}
