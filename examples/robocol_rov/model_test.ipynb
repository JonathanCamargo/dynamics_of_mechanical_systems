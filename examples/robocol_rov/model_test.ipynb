{
 "cells": [
  {
   "cell_type": "markdown",
   "id": "46691e80-7c95-4f45-b2e7-ad92009956b7",
   "metadata": {},
   "source": []
  },
  {
   "cell_type": "code",
   "execution_count": 1,
   "id": "05654672",
   "metadata": {},
   "outputs": [
    {
     "data": {
      "text/plain": [
       "array([ 0.        ,  0.        ,  0.        ,  0.        ,  0.        ,\n",
       "       -2.82842712])"
      ]
     },
     "execution_count": 1,
     "metadata": {},
     "output_type": "execute_result"
    }
   ],
   "source": [
    "import sys\n",
    "sys.path.append('../../src/')\n",
    "from exportedfuns import dq_dt\n",
    "\n",
    "# Probar\n",
    "uvalues=[1,1,1,1]\n",
    "qvalues=[0,0,0,0,0,0]\n",
    "dq_dt(qvalues,t=None,u=uvalues)\n"
   ]
  }
 ],
 "metadata": {
  "kernelspec": {
   "display_name": "Python 3 (ipykernel)",
   "language": "python",
   "name": "python3"
  },
  "language_info": {
   "codemirror_mode": {
    "name": "ipython",
    "version": 3
   },
   "file_extension": ".py",
   "mimetype": "text/x-python",
   "name": "python",
   "nbconvert_exporter": "python",
   "pygments_lexer": "ipython3",
   "version": "3.11.0"
  }
 },
 "nbformat": 4,
 "nbformat_minor": 5
}
