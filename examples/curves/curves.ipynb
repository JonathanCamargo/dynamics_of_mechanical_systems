{
 "cells": [
  {
   "cell_type": "code",
   "execution_count": null,
   "metadata": {},
   "outputs": [
    {
     "data": {
      "image/png": "[encoded data removed]",
      "text/plain": [
       "<Figure size 640x480 with 1 Axes>"
      ]
     },
     "metadata": {},
     "output_type": "display_data"
    }
   ],
   "source": [
    "import scipy\n",
    "import numpy as np\n",
    "import matplotlib.pyplot as plt\n",
    "from curves import *\n",
    "from mechanisms.fourbar import FourBar\n",
    "import matplotlib.animation as animation\n",
    "from IPython.display import HTML\n",
    "\n",
    "# Example usage\n",
    "# points = [[0,0], [5,0], [1,1], [0,1],[0,0]]\n",
    "\n",
    "points = [[300,200], [344.59,196.26], [297.93,221.3], [258.97,200],[300,200]]\n",
    "\n",
    "spline = ClosedSpline(points, n=50)\n",
    "\n",
    "def opt_fun(x):\n",
    "    #circle_x,circle_y=circle([x[0],x[1]], x[2],50)\n",
    "    circle_x,circle_y=elipse([x[0],x[1]], x[2],x[3],50)\n",
    "    return CompareCurves(spline.xx,spline.yy,circle_x,circle_y)\n",
    "\n",
    "# Prueba con circulo\n",
    "#opt_out=scipy.optimize.least_squares(opt_fun,[0,0,1],bounds=([-1,-1,0.1],[4,4,5]))\n",
    "#circle_x,circle_y=circle([opt_out.x[0],opt_out.x[1]], opt_out.x[2],50)\n",
    "\n",
    "#Prueba con elipse\n",
    "opt_out=scipy.optimize.least_squares(opt_fun,[0,0,3,1],bounds=([-1,-1,0.1,0.1],[4,4,5,5]))\n",
    "circle_x,circle_y=elipse([opt_out.x[0],opt_out.x[1]], opt_out.x[2],opt_out.x[3],50)\n",
    "\n",
    "spline.plot()\n",
    "#plt.plot(circle_x,circle_y,'.')\n",
    "opt_out\n",
    "\n",
    "fourbar=FourBar(2,1,1.2,1.8)\n",
    "\n"
   ]
  },
  {
   "cell_type": "code",
   "execution_count": 4,
   "metadata": {},
   "outputs": [
    {
     "data": {
      "text/plain": [
       "     message: `xtol` termination condition is satisfied.\n",
       "     success: True\n",
       "      status: 3\n",
       "         fun: [ 1.220e+00]\n",
       "           x: [ 1.977e+00  1.621e+00  1.976e+00  1.603e+00  4.254e-01\n",
       "               -1.457e-01]\n",
       "        cost: 0.7440471455675115\n",
       "         jac: [[-3.679e-01  2.358e+06  3.543e-01  2.384e+06 -6.157e-01\n",
       "                 1.038e-01]]\n",
       "        grad: [-4.487e-01  2.876e+06  4.322e-01  2.909e+06 -7.511e-01\n",
       "                1.266e-01]\n",
       "  optimality: 2908661.0630487287\n",
       " active_mask: [0 0 0 0 0 0]\n",
       "        nfev: 12\n",
       "        njev: 5"
      ]
     },
     "execution_count": 4,
     "metadata": {},
     "output_type": "execute_result"
    }
   ],
   "source": [
    "# For a set of lengths compute the trayectory\n",
    "points = [[0,0], [5,0], [1,1], [0,1],[0,0]]\n",
    "trajectory_star = ClosedSpline(points, n=40)\n",
    "\n",
    "def GetTrajectory(fourbar):\n",
    "    theta_array = np.linspace(0+0.4, 2*np.pi+0.4, 40)\n",
    "    trajectory=np.zeros((len(theta_array),2))\n",
    "    for i in range(len(theta_array)):\n",
    "        theta1=theta_array[i]\n",
    "        [theta2,theta3],fkout=fourbar.FK(theta1)\n",
    "        if fkout.cost>1e-3:\n",
    "            er=np.nan\n",
    "            break\n",
    "        points=fourbar.ComputePoints(theta1,theta2,theta3)\n",
    "        marker=points['A']+0.5*np.array([np.cos(theta2),np.sin(theta2)])\n",
    "        trajectory[i,:]=marker\n",
    "    return trajectory[0:i+1,:]\n",
    "\n",
    "def opt_fun(x):\n",
    "    fourbar=FourBar(*x[0:4])\n",
    "    fourbar.setOloc(*x[4:6])\n",
    "    trajectory=GetTrajectory(fourbar)\n",
    "    if len(trajectory)<40:\n",
    "        er=1000\n",
    "    else:\n",
    "        er=CompareCurves(trajectory_star.xx,trajectory_star.yy,trajectory[:,0],trajectory[:,1])\n",
    "    return er\n",
    "\n",
    "x0=[2,1,1.8,1.8,0,0]\n",
    "out_opt=scipy.optimize.least_squares(opt_fun,x0,bounds=([0.1,0.1,0.1,0.1,-2,-2],[5,5,5,5,2,2]),method='dogbox')\n",
    "out_opt"
   ]
  },
  {
   "cell_type": "code",
   "execution_count": 3,
   "metadata": {},
   "outputs": [
    {
     "ename": "NameError",
     "evalue": "name 'out_opt' is not defined",
     "output_type": "error",
     "traceback": [
      "\u001b[1;31m---------------------------------------------------------------------------\u001b[0m",
      "\u001b[1;31mNameError\u001b[0m                                 Traceback (most recent call last)",
      "Cell \u001b[1;32mIn [3], line 1\u001b[0m\n\u001b[1;32m----> 1\u001b[0m lengths_star\u001b[38;5;241m=\u001b[39m\u001b[43mout_opt\u001b[49m\u001b[38;5;241m.\u001b[39mx[\u001b[38;5;241m0\u001b[39m:\u001b[38;5;241m4\u001b[39m]\n\u001b[0;32m      2\u001b[0m fourbar_star\u001b[38;5;241m=\u001b[39mFourBar(\u001b[38;5;241m*\u001b[39mlengths_star[\u001b[38;5;241m0\u001b[39m:\u001b[38;5;241m4\u001b[39m])\n\u001b[0;32m      3\u001b[0m fourbar_star\u001b[38;5;241m.\u001b[39msetOloc(\u001b[38;5;241m*\u001b[39mout_opt\u001b[38;5;241m.\u001b[39mx[\u001b[38;5;241m4\u001b[39m:\u001b[38;5;241m6\u001b[39m])\n",
      "\u001b[1;31mNameError\u001b[0m: name 'out_opt' is not defined"
     ]
    }
   ],
   "source": [
    "lengths_star=out_opt.x[0:4]\n",
    "fourbar_star=FourBar(*lengths_star[0:4])\n",
    "fourbar_star.setOloc(*out_opt.x[4:6])\n",
    "\n",
    "\n",
    "theta_array = np.linspace(0+0.4, 2*np.pi+0.4, 40)\n",
    "\n",
    "fig, ax = plt.subplots()\n",
    "markers = np.zeros((len(theta_array),2))\n",
    "def update(frame):\n",
    "    ax.cla()\n",
    "    theta1=theta_array[frame]\n",
    "    [theta2,theta3],out=fourbar_star.FK(theta1)\n",
    "    points=fourbar_star.ComputePoints(theta1,theta2,theta3)\n",
    "    fourbar_star.plot(theta_array[frame],ax=ax,theta2=theta2,theta3=theta3)\n",
    "    marker=points['A']+0.5*np.array([np.cos(theta2),np.sin(theta2)])\n",
    "    markers[frame,:]=marker\n",
    "    ax.plot(markers[0:frame+1,0],markers[0:frame+1,1],'r-')\n",
    "    ax.plot(markers[frame,0],markers[frame,1],'r*')\n",
    "    ax.plot(trajectory_star.xx,trajectory_star.yy,'b.')\n",
    "    ax.set_xlim(-5,5)\n",
    "    ax.set_ylim(-5,5)\n",
    "    \n",
    "ani = animation.FuncAnimation(fig, update, frames=len(theta_array), interval=50)\n",
    "\n",
    "plt.close(fig)\n",
    "HTML(ani.to_jshtml())"
   ]
  },
  {
   "cell_type": "code",
   "execution_count": 5,
   "metadata": {},
   "outputs": [
    {
     "ename": "ValueError",
     "evalue": "operands could not be broadcast together with shapes (4,) (2,) ",
     "output_type": "error",
     "traceback": [
      "\u001b[1;31m---------------------------------------------------------------------------\u001b[0m",
      "\u001b[1;31mValueError\u001b[0m                                Traceback (most recent call last)",
      "Cell \u001b[1;32mIn [5], line 14\u001b[0m\n\u001b[0;32m     12\u001b[0m xi\u001b[38;5;241m=\u001b[39mxx_flat[:,i]\n\u001b[0;32m     13\u001b[0m fourbar\u001b[38;5;241m=\u001b[39mFourBar(\u001b[38;5;241m*\u001b[39mxi)\n\u001b[1;32m---> 14\u001b[0m traj\u001b[38;5;241m=\u001b[39m\u001b[43mGetTrajectory\u001b[49m\u001b[43m(\u001b[49m\u001b[43mfourbar\u001b[49m\u001b[43m)\u001b[49m\n\u001b[0;32m     15\u001b[0m \u001b[38;5;28mprint\u001b[39m(traj)\n\u001b[0;32m     16\u001b[0m plt\u001b[38;5;241m.\u001b[39mplot(traj[:,\u001b[38;5;241m0\u001b[39m],traj[:,\u001b[38;5;241m1\u001b[39m])\n",
      "Cell \u001b[1;32mIn [4], line 15\u001b[0m, in \u001b[0;36mGetTrajectory\u001b[1;34m(fourbar)\u001b[0m\n\u001b[0;32m     13\u001b[0m         \u001b[38;5;28;01mbreak\u001b[39;00m\n\u001b[0;32m     14\u001b[0m     points\u001b[38;5;241m=\u001b[39mfourbar\u001b[38;5;241m.\u001b[39mComputePoints(theta1,theta2,theta3)\n\u001b[1;32m---> 15\u001b[0m     marker\u001b[38;5;241m=\u001b[39m\u001b[43mpoints\u001b[49m\u001b[43m[\u001b[49m\u001b[38;5;124;43m'\u001b[39;49m\u001b[38;5;124;43mA\u001b[39;49m\u001b[38;5;124;43m'\u001b[39;49m\u001b[43m]\u001b[49m\u001b[38;5;241;43m+\u001b[39;49m\u001b[38;5;241;43m0.5\u001b[39;49m\u001b[38;5;241;43m*\u001b[39;49m\u001b[43mnp\u001b[49m\u001b[38;5;241;43m.\u001b[39;49m\u001b[43marray\u001b[49m\u001b[43m(\u001b[49m\u001b[43m[\u001b[49m\u001b[43mnp\u001b[49m\u001b[38;5;241;43m.\u001b[39;49m\u001b[43mcos\u001b[49m\u001b[43m(\u001b[49m\u001b[43mtheta2\u001b[49m\u001b[43m)\u001b[49m\u001b[43m,\u001b[49m\u001b[43mnp\u001b[49m\u001b[38;5;241;43m.\u001b[39;49m\u001b[43msin\u001b[49m\u001b[43m(\u001b[49m\u001b[43mtheta2\u001b[49m\u001b[43m)\u001b[49m\u001b[43m]\u001b[49m\u001b[43m)\u001b[49m\n\u001b[0;32m     16\u001b[0m     trajectory[i,:]\u001b[38;5;241m=\u001b[39mmarker\n\u001b[0;32m     17\u001b[0m \u001b[38;5;28;01mreturn\u001b[39;00m trajectory[\u001b[38;5;241m0\u001b[39m:i\u001b[38;5;241m+\u001b[39m\u001b[38;5;241m1\u001b[39m,:]\n",
      "\u001b[1;31mValueError\u001b[0m: operands could not be broadcast together with shapes (4,) (2,) "
     ]
    }
   ],
   "source": [
    "## Save trayectories \n",
    "\n",
    "# 40 points\n",
    "lengths_sweep=np.linspace(0.1,5,10)\n",
    "xx=np.meshgrid(lengths_sweep,lengths_sweep,lengths_sweep,lengths_sweep)\n",
    "xx_flat = np.array([x.flatten() for x in xx])\n",
    "\n",
    "#for i in range(0,xx[0].shape[0]):\n",
    "#    for j in range(0,xx[0].shape[1]):\n",
    "\n",
    "for i in range(0,xx_flat[0].shape[0]):\n",
    "    xi=xx_flat[:,i]\n",
    "    fourbar=FourBar(*xi)\n",
    "    traj=GetTrajectory(fourbar)\n",
    "    print(traj)\n",
    "    plt.plot(traj[:,0],traj[:,1])\n",
    "    error\n"
   ]
  },
  {
   "cell_type": "code",
   "execution_count": 3,
   "metadata": {},
   "outputs": [
    {
     "ename": "TypeError",
     "evalue": "loop of ufunc does not support argument 0 of type OptimizeResult which has no callable cos method",
     "output_type": "error",
     "traceback": [
      "\u001b[1;31m---------------------------------------------------------------------------\u001b[0m",
      "\u001b[1;31mKeyError\u001b[0m                                  Traceback (most recent call last)",
      "File \u001b[1;32mc:\\Users\\jcl00\\pyenvs\\math\\lib\\site-packages\\scipy\\_lib\\_util.py:1091\u001b[0m, in \u001b[0;36m_RichResult.__getattr__\u001b[1;34m(self, name)\u001b[0m\n\u001b[0;32m   1090\u001b[0m \u001b[38;5;28;01mtry\u001b[39;00m:\n\u001b[1;32m-> 1091\u001b[0m     \u001b[38;5;28;01mreturn\u001b[39;00m \u001b[38;5;28;43mself\u001b[39;49m\u001b[43m[\u001b[49m\u001b[43mname\u001b[49m\u001b[43m]\u001b[49m\n\u001b[0;32m   1092\u001b[0m \u001b[38;5;28;01mexcept\u001b[39;00m \u001b[38;5;167;01mKeyError\u001b[39;00m \u001b[38;5;28;01mas\u001b[39;00m e:\n",
      "\u001b[1;31mKeyError\u001b[0m: 'cos'",
      "\nThe above exception was the direct cause of the following exception:\n",
      "\u001b[1;31mAttributeError\u001b[0m                            Traceback (most recent call last)",
      "File \u001b[1;32mc:\\Users\\jcl00\\pyenvs\\math\\lib\\site-packages\\scipy\\_lib\\_util.py:1093\u001b[0m, in \u001b[0;36m_RichResult.__getattr__\u001b[1;34m(self, name)\u001b[0m\n\u001b[0;32m   1092\u001b[0m \u001b[38;5;28;01mexcept\u001b[39;00m \u001b[38;5;167;01mKeyError\u001b[39;00m \u001b[38;5;28;01mas\u001b[39;00m e:\n\u001b[1;32m-> 1093\u001b[0m     \u001b[38;5;28;01mraise\u001b[39;00m \u001b[38;5;167;01mAttributeError\u001b[39;00m(name) \u001b[38;5;28;01mfrom\u001b[39;00m \u001b[38;5;21;01me\u001b[39;00m\n",
      "\u001b[1;31mAttributeError\u001b[0m: cos",
      "\nThe above exception was the direct cause of the following exception:\n",
      "\u001b[1;31mTypeError\u001b[0m                                 Traceback (most recent call last)",
      "Cell \u001b[1;32mIn [3], line 1\u001b[0m\n\u001b[1;32m----> 1\u001b[0m \u001b[43mfourbar\u001b[49m\u001b[38;5;241;43m.\u001b[39;49m\u001b[43mComputePoints\u001b[49m\u001b[43m(\u001b[49m\u001b[38;5;241;43m0.0\u001b[39;49m\u001b[43m)\u001b[49m\n",
      "File \u001b[1;32mc:\\Users\\jcl00\\Dropbox\\Uniandes\\New folder\\fourbar.py:46\u001b[0m, in \u001b[0;36mFourBar.ComputePoints\u001b[1;34m(self, theta1, theta2, theta3)\u001b[0m\n\u001b[0;32m     44\u001b[0m \u001b[38;5;28;01mif\u001b[39;00m theta2 \u001b[38;5;129;01mis\u001b[39;00m \u001b[38;5;28;01mNone\u001b[39;00m \u001b[38;5;129;01mor\u001b[39;00m theta3 \u001b[38;5;129;01mis\u001b[39;00m \u001b[38;5;28;01mNone\u001b[39;00m:\n\u001b[0;32m     45\u001b[0m     theta2,theta3\u001b[38;5;241m=\u001b[39m\u001b[38;5;28mself\u001b[39m\u001b[38;5;241m.\u001b[39mFK(theta1)\n\u001b[1;32m---> 46\u001b[0m point_vals\u001b[38;5;241m=\u001b[39m{k:point(theta1,theta2,theta3)\u001b[38;5;241m+\u001b[39m\u001b[38;5;28mself\u001b[39m\u001b[38;5;241m.\u001b[39moloc \u001b[38;5;28;01mfor\u001b[39;00m k,point \u001b[38;5;129;01min\u001b[39;00m \u001b[38;5;28mself\u001b[39m\u001b[38;5;241m.\u001b[39mpoints_fun\u001b[38;5;241m.\u001b[39mitems()}\n\u001b[0;32m     47\u001b[0m \u001b[38;5;28;01mreturn\u001b[39;00m point_vals\n",
      "File \u001b[1;32mc:\\Users\\jcl00\\Dropbox\\Uniandes\\New folder\\fourbar.py:46\u001b[0m, in \u001b[0;36m<dictcomp>\u001b[1;34m(.0)\u001b[0m\n\u001b[0;32m     44\u001b[0m \u001b[38;5;28;01mif\u001b[39;00m theta2 \u001b[38;5;129;01mis\u001b[39;00m \u001b[38;5;28;01mNone\u001b[39;00m \u001b[38;5;129;01mor\u001b[39;00m theta3 \u001b[38;5;129;01mis\u001b[39;00m \u001b[38;5;28;01mNone\u001b[39;00m:\n\u001b[0;32m     45\u001b[0m     theta2,theta3\u001b[38;5;241m=\u001b[39m\u001b[38;5;28mself\u001b[39m\u001b[38;5;241m.\u001b[39mFK(theta1)\n\u001b[1;32m---> 46\u001b[0m point_vals\u001b[38;5;241m=\u001b[39m{k:\u001b[43mpoint\u001b[49m\u001b[43m(\u001b[49m\u001b[43mtheta1\u001b[49m\u001b[43m,\u001b[49m\u001b[43mtheta2\u001b[49m\u001b[43m,\u001b[49m\u001b[43mtheta3\u001b[49m\u001b[43m)\u001b[49m\u001b[38;5;241m+\u001b[39m\u001b[38;5;28mself\u001b[39m\u001b[38;5;241m.\u001b[39moloc \u001b[38;5;28;01mfor\u001b[39;00m k,point \u001b[38;5;129;01min\u001b[39;00m \u001b[38;5;28mself\u001b[39m\u001b[38;5;241m.\u001b[39mpoints_fun\u001b[38;5;241m.\u001b[39mitems()}\n\u001b[0;32m     47\u001b[0m \u001b[38;5;28;01mreturn\u001b[39;00m point_vals\n",
      "File \u001b[1;32m<lambdifygenerated-10>:2\u001b[0m, in \u001b[0;36m_lambdifygenerated\u001b[1;34m(_Dummy_65, _Dummy_64, _Dummy_63)\u001b[0m\n\u001b[0;32m      1\u001b[0m \u001b[38;5;28;01mdef\u001b[39;00m \u001b[38;5;21m_lambdifygenerated\u001b[39m(_Dummy_65, _Dummy_64, _Dummy_63):\n\u001b[1;32m----> 2\u001b[0m     \u001b[38;5;28;01mreturn\u001b[39;00m [\u001b[38;5;241m0.1\u001b[39m\u001b[38;5;241m*\u001b[39m\u001b[43mcos\u001b[49m\u001b[43m(\u001b[49m\u001b[43m_Dummy_63\u001b[49m\u001b[43m)\u001b[49m \u001b[38;5;241m+\u001b[39m \u001b[38;5;241m0.1\u001b[39m, \u001b[38;5;241m0.1\u001b[39m\u001b[38;5;241m*\u001b[39msin(_Dummy_63)]\n",
      "\u001b[1;31mTypeError\u001b[0m: loop of ufunc does not support argument 0 of type OptimizeResult which has no callable cos method"
     ]
    }
   ],
   "source": [
    "fourbar.ComputePoints(0.0)"
   ]
  }
 ],
 "metadata": {
  "kernelspec": {
   "display_name": "math",
   "language": "python",
   "name": "python3"
  },
  "language_info": {
   "codemirror_mode": {
    "name": "ipython",
    "version": 3
   },
   "file_extension": ".py",
   "mimetype": "text/x-python",
   "name": "python",
   "nbconvert_exporter": "python",
   "pygments_lexer": "ipython3",
   "version": "3.12.3"
  }
 },
 "nbformat": 4,
 "nbformat_minor": 2
}
